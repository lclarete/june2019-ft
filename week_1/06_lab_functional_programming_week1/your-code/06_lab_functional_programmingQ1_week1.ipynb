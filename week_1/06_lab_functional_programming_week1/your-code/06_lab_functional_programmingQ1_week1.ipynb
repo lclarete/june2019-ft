{
 "cells": [
  {
   "cell_type": "markdown",
   "metadata": {},
   "source": [
    "In the cell below, create a Python function that wraps your previous solution for the Bag of Words lab.\n",
    "\n",
    "Requirements:\n",
    "\n",
    "1. Your function should accept the following parameters:\n",
    "    * `docs` [REQUIRED] - array of document paths.\n",
    "    * `stop_words` [OPTIONAL] - array of stop words. The default value is an empty array.\n",
    "\n",
    "1. Your function should return a Python object that contains the following:\n",
    "    * `bag_of_words` - array of strings of normalized unique words in the corpus.\n",
    "    * `term_freq` - array of the term-frequency vectors."
   ]
  },
  {
   "cell_type": "code",
   "execution_count": 1,
   "metadata": {},
   "outputs": [],
   "source": [
    "import re"
   ]
  },
  {
   "cell_type": "code",
   "execution_count": 66,
   "metadata": {},
   "outputs": [],
   "source": [
    "def get_bow_from_docs(docs, stop_words=[]):\n",
    "    \n",
    "    corpus = []\n",
    "    bagOfWords = []\n",
    "    termFreq = []\n",
    "    \n",
    "    \"\"\"\n",
    "    Loop `docs` and read the content of each doc into a string in `corpus`.\n",
    "    Remember to convert the doc content to lowercases and remove punctuation.\n",
    "    \"\"\"\n",
    "\n",
    "    for f in docs:\n",
    "        f = (open(f, 'r')) # open file\n",
    "        doc = f.read().lower() # read it, and make all lowecase\n",
    "        f.close() # close file \n",
    "        doc = re.sub('[.]', '', doc) # remove punctuation\n",
    "        corpus.append(re.split('[\\n ]',  doc)) # split words and add them to the corpus\n",
    "    \n",
    "    \"\"\"\n",
    "    Loop `corpus`. Append the terms in each doc into the `bag_of_words` array. The terms in `bag_of_words` \n",
    "    should be unique which means before adding each term you need to check if it's already added to the array.\n",
    "    In addition, check if each term is in the `stop_words` array. Only append the term to `bag_of_words`\n",
    "    if it is not a stop word.\n",
    "    \"\"\"\n",
    "    \n",
    "    for el in corpus: \n",
    "        for word in el: \n",
    "            if word not in stop_words and word not in bagOfWords:\n",
    "                bagOfWords.append(word)\n",
    "       \n",
    "    \"\"\"\n",
    "    Loop `corpus` again. For each doc string, count the number of occurrences of each term in `bag_of_words`. \n",
    "    Create an array for each doc's term frequency and append it to `term_freq`.\n",
    "    \"\"\"\n",
    "    i = 0\n",
    "    for el in corpus:\n",
    "        termFreq.append([])\n",
    "        for word in bagOfWords:\n",
    "            c = el.count(word)\n",
    "            termFreq[i].append(c)\n",
    "        i+=1\n",
    "       \n",
    "    # Now return your output as an object\n",
    "    return {\n",
    "        \"bagOfWords\": bagOfWords,\n",
    "        \"termFreq\": termFreq\n",
    "    }\n",
    "    "
   ]
  },
  {
   "cell_type": "markdown",
   "metadata": {},
   "source": [
    "Test your function without stop words. You should see the output like below:\n",
    "\n",
    "```{'bag_of_words': ['ironhack', 'is', 'cool', 'i', 'love', 'am', 'a', 'student', 'at'], 'term_freq': [[1, 1, 1, 0, 0, 0, 0, 0, 0], [1, 0, 0, 1, 1, 0, 0, 0, 0], [1, 0, 0, 1, 0, 1, 1, 1, 1]]}```"
   ]
  },
  {
   "cell_type": "code",
   "execution_count": 67,
   "metadata": {},
   "outputs": [],
   "source": [
    "# Define doc paths array\n",
    "docs = ['doc1.txt',\n",
    "       'doc2.txt',\n",
    "       'doc3.txt']"
   ]
  },
  {
   "cell_type": "code",
   "execution_count": 68,
   "metadata": {},
   "outputs": [],
   "source": [
    "# Obtain BoW from your function\n",
    "bow = get_bow_from_docs(docs)"
   ]
  },
  {
   "cell_type": "code",
   "execution_count": 69,
   "metadata": {},
   "outputs": [
    {
     "name": "stdout",
     "output_type": "stream",
     "text": [
      "{'bagOfWords': ['ironhack', 'is', 'cool', 'i', 'love', 'am', 'a', 'student', 'at'], 'termFreq': [[1, 1, 1, 0, 0, 0, 0, 0, 0], [1, 0, 0, 1, 1, 0, 0, 0, 0], [1, 0, 0, 1, 0, 1, 1, 1, 1]]}\n"
     ]
    }
   ],
   "source": [
    "# Print BoW\n",
    "print(bow)"
   ]
  },
  {
   "cell_type": "markdown",
   "metadata": {},
   "source": [
    "If your attempt above is successful, nice work done!\n",
    "\n",
    "Now test your function again with the stop words. In the previous lab we defined the stop words in a large array. In this lab, we'll import the stop words from Scikit-Learn."
   ]
  },
  {
   "cell_type": "code",
   "execution_count": 70,
   "metadata": {},
   "outputs": [
    {
     "name": "stdout",
     "output_type": "stream",
     "text": [
      "frozenset({'i', 'five', 'out', 'fill', 'well', 'though', 'everywhere', 'thence', 'him', 'all', 'both', 'de', 'thereafter', 'upon', 'which', 'among', 'becoming', 'get', 'off', 'four', 'keep', 'when', 'anyone', 'been', 'beside', 'a', 'who', 'already', 'sometimes', 'across', 'empty', 'should', 'each', 'take', 'co', 'meanwhile', 'neither', 'than', 'eg', 'fifty', 'mill', 'by', 'therein', 'down', 'everyone', 'no', 'anywhere', 'although', 'moreover', 'ourselves', 'several', 'six', 'you', 'fire', 'on', 'beforehand', 'seeming', 'whatever', 'as', 'and', 'besides', 'could', 'her', 'his', 'except', 'see', 'enough', 'one', 'them', 'forty', 'nobody', 'hereafter', 'afterwards', 'alone', 'how', 'thus', 'through', 'up', 'however', 'whereby', 'will', 'was', 'that', 'am', 'an', 'then', 'with', 'there', 'beyond', 'whose', 'indeed', 'me', 'becomes', 'might', 'again', 'because', 'between', 'have', 'hundred', 'be', 'formerly', 'interest', 'side', 'nothing', 'under', 'we', 'herself', 'others', 'nevertheless', 'call', 'whom', 'nor', 'namely', 'elsewhere', 'sixty', 'mostly', 'please', 'third', 'per', 'to', 'behind', 'three', 'few', 'towards', 'your', 'only', 'in', 'itself', 'she', 'became', 'many', 'none', 'can', 'around', 'seem', 'show', 'system', 'ours', 'over', 'somewhere', 'nine', 'amoungst', 'these', 'they', 'find', 'two', 'has', 'hers', 'inc', 'rather', 'back', 'above', 'whether', 'nowhere', 'every', 'of', 'their', 'toward', 'put', 'after', 'whereupon', 'together', 'first', 'whereafter', 'whoever', 'must', 'if', 'serious', 'would', 'anyway', 'yet', 'found', 'latter', 'fifteen', 'perhaps', 'same', 'thick', 'couldnt', 'give', 'top', 'un', 'some', 'twelve', 'yourself', 'further', 'front', 'also', 'for', 'wherein', 'become', 'always', 'often', 'etc', 'therefore', 'whole', 'even', 'never', 'latterly', 'the', 'any', 'throughout', 'hence', 'my', 'otherwise', 'move', 'herein', 'con', 'until', 'myself', 'since', 'during', 'along', 'hasnt', 'seemed', 'own', 'not', 'below', 'at', 'our', 'anyhow', 'from', 'ie', 'it', 'once', 'other', 'so', 'everything', 'least', 'ltd', 'cry', 'detail', 're', 'without', 'before', 'cant', 'against', 'less', 'such', 'eleven', 'much', 'whereas', 'very', 'via', 'wherever', 'name', 'twenty', 'whither', 'done', 'into', 'amount', 'full', 'do', 'else', 'made', 'whenever', 'yours', 'something', 'amongst', 'whence', 'its', 'may', 'or', 'why', 'eight', 'bill', 'had', 'thru', 'within', 'either', 'cannot', 'another', 'thin', 'describe', 'bottom', 'where', 'us', 'due', 'here', 'seems', 'hereupon', 'is', 'now', 'part', 'while', 'former', 'he', 'themselves', 'yourselves', 'thereupon', 'anything', 'what', 'those', 'being', 'sincere', 'most', 'someone', 'but', 'about', 'sometime', 'too', 'go', 'ten', 'are', 'ever', 'somehow', 'still', 'almost', 'thereby', 'this', 'mine', 'next', 'himself', 'noone', 'hereby', 'more', 'onto', 'last', 'were'})\n"
     ]
    }
   ],
   "source": [
    "from sklearn.feature_extraction import stop_words\n",
    "print(stop_words.ENGLISH_STOP_WORDS)"
   ]
  },
  {
   "cell_type": "markdown",
   "metadata": {},
   "source": [
    "You should have seen a large list of words that looks like:\n",
    "\n",
    "```frozenset({'across', 'mine', 'cannot', ...})```\n",
    "\n",
    "`frozenset` is a type of Python object that is immutable. In this lab you can use it just like an array without conversion."
   ]
  },
  {
   "cell_type": "markdown",
   "metadata": {},
   "source": [
    "Next, test your function with supplying `stop_words.ENGLISH_STOP_WORDS` as the second parameter."
   ]
  },
  {
   "cell_type": "code",
   "execution_count": 73,
   "metadata": {},
   "outputs": [],
   "source": [
    "bow = get_bow_from_docs(docs, stop_words=stop_words.ENGLISH_STOP_WORDS)"
   ]
  },
  {
   "cell_type": "code",
   "execution_count": 74,
   "metadata": {},
   "outputs": [
    {
     "name": "stdout",
     "output_type": "stream",
     "text": [
      "{'bagOfWords': ['ironhack', 'cool', 'love', 'student'], 'termFreq': [[1, 1, 0, 0], [1, 0, 1, 0], [1, 0, 0, 1]]}\n"
     ]
    }
   ],
   "source": [
    "print(bow)"
   ]
  },
  {
   "cell_type": "markdown",
   "metadata": {},
   "source": [
    "You should have seen:\n",
    "\n",
    "```{'bag_of_words': ['ironhack', 'cool', 'love', 'student'], 'term_freq': [[1, 1, 0, 0], [1, 0, 1, 0], [1, 0, 0, 1]]}```"
   ]
  }
 ],
 "metadata": {
  "kernelspec": {
   "display_name": "Python 3",
   "language": "python",
   "name": "python3"
  },
  "language_info": {
   "codemirror_mode": {
    "name": "ipython",
    "version": 3
   },
   "file_extension": ".py",
   "mimetype": "text/x-python",
   "name": "python",
   "nbconvert_exporter": "python",
   "pygments_lexer": "ipython3",
   "version": "3.6.0"
  }
 },
 "nbformat": 4,
 "nbformat_minor": 4
}
